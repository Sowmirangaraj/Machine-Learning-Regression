{
 "cells": [
  {
   "cell_type": "code",
   "execution_count": 12,
   "id": "79acd872-322b-4399-9d0a-def1f5840d9b",
   "metadata": {},
   "outputs": [],
   "source": [
    "import pickle"
   ]
  },
  {
   "cell_type": "code",
   "execution_count": 13,
   "id": "2b196a65-8d35-4887-84d1-b085c306c459",
   "metadata": {},
   "outputs": [],
   "source": [
    "filename=\"finalized_model_mul_linear.sav\""
   ]
  },
  {
   "cell_type": "code",
   "execution_count": 14,
   "id": "1795a7d2-5134-4383-8733-21df5b04ed94",
   "metadata": {},
   "outputs": [],
   "source": [
    "loaded_model=pickle.load(open(\"finalized_model_mul_linear.sav\",'rb'))"
   ]
  },
  {
   "cell_type": "code",
   "execution_count": 15,
   "id": "24d57b2e-3894-4ff9-83aa-e3621a368c0e",
   "metadata": {},
   "outputs": [
    {
     "name": "stderr",
     "output_type": "stream",
     "text": [
      "C:\\anaconda 3\\Lib\\site-packages\\sklearn\\base.py:493: UserWarning: X does not have valid feature names, but LinearRegression was fitted with feature names\n",
      "  warnings.warn(\n"
     ]
    }
   ],
   "source": [
    "result=loaded_model.predict([[1234,345,4565,1,0]])"
   ]
  },
  {
   "cell_type": "code",
   "execution_count": 16,
   "id": "ef76d6a8-d07d-4163-9d6a-9dd4f3217008",
   "metadata": {},
   "outputs": [
    {
     "data": {
      "text/plain": [
       "array([[43994.79745873]])"
      ]
     },
     "execution_count": 16,
     "metadata": {},
     "output_type": "execute_result"
    }
   ],
   "source": [
    "result"
   ]
  },
  {
   "cell_type": "code",
   "execution_count": null,
   "id": "6b9ff0d9-e416-4bb8-8f96-a4fb9c4d394f",
   "metadata": {},
   "outputs": [],
   "source": []
  }
 ],
 "metadata": {
  "kernelspec": {
   "display_name": "Python 3 (ipykernel)",
   "language": "python",
   "name": "python3"
  },
  "language_info": {
   "codemirror_mode": {
    "name": "ipython",
    "version": 3
   },
   "file_extension": ".py",
   "mimetype": "text/x-python",
   "name": "python",
   "nbconvert_exporter": "python",
   "pygments_lexer": "ipython3",
   "version": "3.12.7"
  }
 },
 "nbformat": 4,
 "nbformat_minor": 5
}
