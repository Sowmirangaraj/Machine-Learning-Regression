{
 "cells": [
  {
   "cell_type": "code",
   "execution_count": 1,
   "id": "f084f9b2-750d-40db-be49-979cafbf3c89",
   "metadata": {},
   "outputs": [],
   "source": [
    "import pickle"
   ]
  },
  {
   "cell_type": "code",
   "execution_count": 2,
   "id": "fd097029-a7d6-4fc1-b3d3-397ed5d2c487",
   "metadata": {},
   "outputs": [],
   "source": [
    "filename=\"finalized_model_Forest.sav\""
   ]
  },
  {
   "cell_type": "code",
   "execution_count": 3,
   "id": "84c2f6ed-a0a9-4413-a1e7-178c707e3c74",
   "metadata": {},
   "outputs": [],
   "source": [
    "loaded_model=pickle.load(open(\"finalized_model_Forest.sav\",'rb'))"
   ]
  },
  {
   "cell_type": "code",
   "execution_count": 4,
   "id": "ddcb4a18-8fd3-4c28-ab82-fd19a78724f9",
   "metadata": {},
   "outputs": [
    {
     "name": "stdin",
     "output_type": "stream",
     "text": [
      "Age: 32\n",
      "Bmi: 33.77\n",
      "Children: 1\n",
      "Sex 0 or 1: 0\n",
      "Smoker 0 or 1: 1\n"
     ]
    }
   ],
   "source": [
    "age_input=float(input(\"Age:\"))\n",
    "bmi_input=float(input(\"Bmi:\"))\n",
    "children_input=float(input(\"Children:\"))\n",
    "sex_input=float(input(\"Sex 0 or 1:\"))\n",
    "smoker_input=float(input(\"Smoker 0 or 1:\"))\n"
   ]
  },
  {
   "cell_type": "code",
   "execution_count": 6,
   "id": "7f3f1998-9e78-4bea-a3c6-2285bfc765ca",
   "metadata": {},
   "outputs": [
    {
     "name": "stderr",
     "output_type": "stream",
     "text": [
      "C:\\anaconda 3\\Lib\\site-packages\\sklearn\\base.py:493: UserWarning: X does not have valid feature names, but RandomForestRegressor was fitted with feature names\n",
      "  warnings.warn(\n"
     ]
    }
   ],
   "source": [
    "result=loaded_model.predict([[age_input,bmi_input,children_input,sex_input,smoker_input]])"
   ]
  },
  {
   "cell_type": "code",
   "execution_count": 7,
   "id": "e3e62eac-e2fe-4a53-bebc-8928c1ff12a5",
   "metadata": {},
   "outputs": [
    {
     "data": {
      "text/plain": [
       "array([39642.2973788])"
      ]
     },
     "execution_count": 7,
     "metadata": {},
     "output_type": "execute_result"
    }
   ],
   "source": [
    "result"
   ]
  },
  {
   "cell_type": "code",
   "execution_count": null,
   "id": "5666160a-4485-4a0c-8510-5bec1e49ceda",
   "metadata": {},
   "outputs": [],
   "source": []
  },
  {
   "cell_type": "code",
   "execution_count": null,
   "id": "82c9b486-dc29-4150-8eca-14ff3ed0337e",
   "metadata": {},
   "outputs": [],
   "source": []
  }
 ],
 "metadata": {
  "kernelspec": {
   "display_name": "Python 3 (ipykernel)",
   "language": "python",
   "name": "python3"
  },
  "language_info": {
   "codemirror_mode": {
    "name": "ipython",
    "version": 3
   },
   "file_extension": ".py",
   "mimetype": "text/x-python",
   "name": "python",
   "nbconvert_exporter": "python",
   "pygments_lexer": "ipython3",
   "version": "3.12.7"
  }
 },
 "nbformat": 4,
 "nbformat_minor": 5
}
