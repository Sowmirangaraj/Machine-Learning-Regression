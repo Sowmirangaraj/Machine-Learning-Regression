{
 "cells": [
  {
   "cell_type": "code",
   "execution_count": 1,
   "id": "f084f9b2-750d-40db-be49-979cafbf3c89",
   "metadata": {},
   "outputs": [],
   "source": [
    "import pickle"
   ]
  },
  {
   "cell_type": "code",
   "execution_count": 2,
   "id": "fd097029-a7d6-4fc1-b3d3-397ed5d2c487",
   "metadata": {},
   "outputs": [],
   "source": [
    "filename=\"finalized_model_Forest.sav\""
   ]
  },
  {
   "cell_type": "code",
   "execution_count": 3,
   "id": "84c2f6ed-a0a9-4413-a1e7-178c707e3c74",
   "metadata": {},
   "outputs": [],
   "source": [
    "loaded_model=pickle.load(open(\"finalized_model_Forest.sav\",'rb'))"
   ]
  },
  {
   "cell_type": "code",
   "execution_count": 4,
   "id": "ad6d813d-174f-4142-8f13-5ec80c2efbd5",
   "metadata": {},
   "outputs": [
    {
     "name": "stdin",
     "output_type": "stream",
     "text": [
      "R&D: 1234\n",
      "Admin: 345\n",
      "Marketing: 4565\n",
      "State_Flo 0 or 1: 1\n",
      "State_New 0 or 1: 0\n"
     ]
    }
   ],
   "source": [
    "rd_input=float(input(\"R&D:\"))\n",
    "admin_input=float(input(\"Admin:\"))\n",
    "mark_input=float(input(\"Marketing:\"))\n",
    "flo_input=float(input(\"State_Flo 0 or 1:\"))\n",
    "new_input=float(input(\"State_New 0 or 1:\"))\n"
   ]
  },
  {
   "cell_type": "code",
   "execution_count": 5,
   "id": "07ba8c21-f00f-4106-a38d-4f2a93c3636e",
   "metadata": {},
   "outputs": [
    {
     "name": "stderr",
     "output_type": "stream",
     "text": [
      "C:\\anaconda 3\\Lib\\site-packages\\sklearn\\base.py:493: UserWarning: X does not have valid feature names, but RandomForestRegressor was fitted with feature names\n",
      "  warnings.warn(\n"
     ]
    }
   ],
   "source": [
    "result=loaded_model.predict([[rd_input,admin_input,mark_input,flo_input,new_input]])"
   ]
  },
  {
   "cell_type": "code",
   "execution_count": 6,
   "id": "e3e62eac-e2fe-4a53-bebc-8928c1ff12a5",
   "metadata": {},
   "outputs": [
    {
     "data": {
      "text/plain": [
       "array([47082.4398])"
      ]
     },
     "execution_count": 6,
     "metadata": {},
     "output_type": "execute_result"
    }
   ],
   "source": [
    "result"
   ]
  },
  {
   "cell_type": "code",
   "execution_count": null,
   "id": "5666160a-4485-4a0c-8510-5bec1e49ceda",
   "metadata": {},
   "outputs": [],
   "source": []
  },
  {
   "cell_type": "code",
   "execution_count": null,
   "id": "82c9b486-dc29-4150-8eca-14ff3ed0337e",
   "metadata": {},
   "outputs": [],
   "source": []
  }
 ],
 "metadata": {
  "kernelspec": {
   "display_name": "Python 3 (ipykernel)",
   "language": "python",
   "name": "python3"
  },
  "language_info": {
   "codemirror_mode": {
    "name": "ipython",
    "version": 3
   },
   "file_extension": ".py",
   "mimetype": "text/x-python",
   "name": "python",
   "nbconvert_exporter": "python",
   "pygments_lexer": "ipython3",
   "version": "3.12.7"
  }
 },
 "nbformat": 4,
 "nbformat_minor": 5
}
